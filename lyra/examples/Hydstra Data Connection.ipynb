{
 "cells": [
  {
   "cell_type": "code",
   "execution_count": null,
   "metadata": {},
   "outputs": [],
   "source": [
    "import requests\n",
    "import json\n",
    "import matplotlib.pyplot as plt\n",
    "import geopandas as gpd"
   ]
  },
  {
   "cell_type": "code",
   "execution_count": null,
   "metadata": {},
   "outputs": [],
   "source": [
    "url = \"http://206.194.127.250/cgi/webservice.pl\""
   ]
  },
  {
   "cell_type": "code",
   "execution_count": null,
   "metadata": {},
   "outputs": [],
   "source": [
    "get_site_list = { \n",
    "    'function' : 'get_site_list', \n",
    "    'version' : 1, \n",
    "    'params' : { 'site_list' : 'TSFILES(DSOURCES(tscARCHIVE))' } \n",
    "}\n",
    "response = requests.post(url, json=get_site_list)\n",
    "response.json()"
   ]
  },
  {
   "cell_type": "code",
   "execution_count": null,
   "metadata": {},
   "outputs": [],
   "source": [
    "get_db_info = {\n",
    "    \"function\":\"get_db_info\",\n",
    "    \"version\":\"3\",\n",
    "    \"params\":{\n",
    "        \"table_name\":\"site\",       \n",
    "        \"return_type\":\"hash\", \n",
    "#         \"labels\":1\n",
    "    }}"
   ]
  },
  {
   "cell_type": "code",
   "execution_count": null,
   "metadata": {},
   "outputs": [],
   "source": [
    "response = requests.post(url, json=get_db_info)"
   ]
  },
  {
   "cell_type": "code",
   "execution_count": null,
   "metadata": {},
   "outputs": [],
   "source": [
    "response.json()"
   ]
  },
  {
   "cell_type": "code",
   "execution_count": null,
   "metadata": {},
   "outputs": [],
   "source": [
    "get_variable_list = {\n",
    "      'function' : 'get_variable_list',\n",
    "      'version' : 1,\n",
    "      'params' : {    \n",
    "        'site_list'  : \"TRABUCO\",\n",
    "        'datasource' : \"A\"\n",
    "      }\n",
    "}"
   ]
  },
  {
   "cell_type": "code",
   "execution_count": null,
   "metadata": {},
   "outputs": [],
   "source": [
    "response = requests.post(url, json=get_variable_list)"
   ]
  },
  {
   "cell_type": "code",
   "execution_count": null,
   "metadata": {},
   "outputs": [],
   "source": [
    "print(json.dumps(response.json(), indent=2))"
   ]
  },
  {
   "cell_type": "code",
   "execution_count": null,
   "metadata": {},
   "outputs": [],
   "source": [
    "get_datasources_by_site = { \n",
    "    'function' : 'get_datasources_by_site', \n",
    "    'version' : 1, \n",
    "    'params' : { \n",
    "        'site_list' : 'TRABUCO' \n",
    "    } \n",
    "}\n",
    "response = requests.post(url, json=get_datasources_by_site)\n",
    "response.json()"
   ]
  },
  {
   "cell_type": "code",
   "execution_count": null,
   "metadata": {},
   "outputs": [],
   "source": []
  },
  {
   "cell_type": "code",
   "execution_count": null,
   "metadata": {},
   "outputs": [],
   "source": [
    "trace_eg = {\n",
    "    \"function\": \"get_ts_traces\",\n",
    "    \"version\": 2,\n",
    "    \"params\": {\n",
    "        \"site_list\": \"TRABUCO\", ## <--\n",
    "        \"start_time\": \"20180801000000\",\n",
    "        \"var_list\": \"11.00\",\n",
    "        \"interval\": \"hour\",\n",
    "        \"datasource\": \"A\", ## <--\n",
    "        \"end_time\": \"20200802000000\",\n",
    "        \"data_type\": \"total\",\n",
    "        \"rounding\": [\n",
    "            {\n",
    "                \"zero_no_dec\": \"1\",\n",
    "                \"dec_first\": \"1\",\n",
    "                \"sigfigs\": \"4\",\n",
    "                \"variable\": \"100\"\n",
    "            }\n",
    "        ],\n",
    "        \"multiplier\": \"1\"\n",
    "    }\n",
    "}"
   ]
  },
  {
   "cell_type": "code",
   "execution_count": null,
   "metadata": {},
   "outputs": [],
   "source": [
    "response = requests.post(url, json=trace_eg)"
   ]
  },
  {
   "cell_type": "code",
   "execution_count": null,
   "metadata": {},
   "outputs": [],
   "source": [
    "print(json.dumps(response.json(), indent=2))"
   ]
  },
  {
   "cell_type": "code",
   "execution_count": null,
   "metadata": {},
   "outputs": [],
   "source": []
  },
  {
   "cell_type": "code",
   "execution_count": null,
   "metadata": {},
   "outputs": [],
   "source": []
  },
  {
   "cell_type": "code",
   "execution_count": null,
   "metadata": {},
   "outputs": [],
   "source": [
    "get_site_list = { \n",
    "    'function' : 'get_site_list', \n",
    "    'version' : 1, \n",
    "    'params' : { 'site_list' : 'TSFILES(DSOURCES(tscARCHIVE))' } \n",
    "}\n",
    "response = requests.post(url, json=get_site_list)\n",
    "sites = \",\".join(response.json()[\"_return\"][\"sites\"])"
   ]
  },
  {
   "cell_type": "code",
   "execution_count": null,
   "metadata": {},
   "outputs": [],
   "source": [
    "get_site_geojson = { \n",
    "    'function' : 'get_site_geojson', \n",
    "    'version' : 2, \n",
    "    'params' : { \n",
    "        'site_list' : sites, \n",
    "        'get_elev' : 1, \n",
    "        'fields' : ['ZONE','region', 'station', 'elev'] } \n",
    "}\n",
    "response = requests.post(url, json=get_site_geojson)\n",
    "locations = response.json()[\"_return\"]"
   ]
  },
  {
   "cell_type": "code",
   "execution_count": null,
   "metadata": {},
   "outputs": [],
   "source": [
    "sites = gpd.read_file(json.dumps(locations))"
   ]
  },
  {
   "cell_type": "code",
   "execution_count": null,
   "metadata": {},
   "outputs": [],
   "source": [
    "fig, ax = plt.subplots()\n",
    "sites.plot(ax=ax)\n",
    "ax.set_xlim([-118.25, -117.25])\n",
    "ax.set_ylim([33.35, 34.3])\n",
    "ax.set_aspect('equal')"
   ]
  },
  {
   "cell_type": "code",
   "execution_count": null,
   "metadata": {},
   "outputs": [],
   "source": []
  }
 ],
 "metadata": {
  "kernelspec": {
   "display_name": "Python 3",
   "language": "python",
   "name": "python3"
  },
  "language_info": {
   "codemirror_mode": {
    "name": "ipython",
    "version": 3
   },
   "file_extension": ".py",
   "mimetype": "text/x-python",
   "name": "python",
   "nbconvert_exporter": "python",
   "pygments_lexer": "ipython3",
   "version": "3.7.6"
  }
 },
 "nbformat": 4,
 "nbformat_minor": 4
}
